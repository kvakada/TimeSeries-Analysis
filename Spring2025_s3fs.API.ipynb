{
  "cells": [
    {
      "cell_type": "markdown",
      "id": "d9160d79",
      "metadata": {
        "id": "d9160d79"
      },
      "source": [
        "# Spring2025_s3fs.API.ipynb\n",
        "\n",
        "This notebook demonstrates the native capabilities of the `s3fs` Python library for interacting with AWS S3. It shows how to list bucket contents, read and write files, and integrate with standard Python file interfaces."
      ]
    },
    {
      "cell_type": "code",
      "execution_count": null,
      "id": "3283c111",
      "metadata": {
        "id": "3283c111"
      },
      "outputs": [],
      "source": [
        "import s3fs\n",
        "\n",
        "# Initialize S3 filesystem (credentials auto-loaded from ~/.aws or env)\n",
        "fs = s3fs.S3FileSystem(anon=False)\n",
        "\n",
        "# Define your bucket name\n",
        "bucket_name = 'bitcoin-timeseries-data-kv'"
      ]
    },
    {
      "cell_type": "markdown",
      "id": "557f7814",
      "metadata": {
        "id": "557f7814"
      },
      "source": [
        "## 📁 List Files in the Bucket"
      ]
    },
    {
      "cell_type": "code",
      "execution_count": null,
      "id": "5e370d37",
      "metadata": {
        "id": "5e370d37"
      },
      "outputs": [],
      "source": [
        "# List files in the bucket\n",
        "files = fs.ls(bucket_name)\n",
        "print(\"✅ Files in bucket:\", files)"
      ]
    },
    {
      "cell_type": "markdown",
      "id": "c63718a6",
      "metadata": {
        "id": "c63718a6"
      },
      "source": [
        "## 📖 Read File from S3 using Binary Mode"
      ]
    },
    {
      "cell_type": "code",
      "execution_count": null,
      "id": "3acffa58",
      "metadata": {
        "id": "3acffa58"
      },
      "outputs": [],
      "source": [
        "# Read file content\n",
        "file_path = f'{bucket_name}/bitcoin_prices.csv'\n",
        "with fs.open(file_path, 'rb') as f:\n",
        "    content = f.read(200)\n",
        "print(content.decode('utf-8'))"
      ]
    },
    {
      "cell_type": "markdown",
      "id": "d0c111a0",
      "metadata": {
        "id": "d0c111a0"
      },
      "source": [
        "## ✍️ Write File to S3 with Caching"
      ]
    },
    {
      "cell_type": "code",
      "execution_count": null,
      "id": "0dbd9634",
      "metadata": {
        "id": "0dbd9634"
      },
      "outputs": [],
      "source": [
        "# Write a file to S3\n",
        "test_path = f'{bucket_name}/test_upload.txt'\n",
        "with fs.open(test_path, 'wb') as f:\n",
        "    f.write(b'This is a test upload to S3 using s3fs.')\n",
        "print(\"✅ File uploaded to S3 successfully!\")"
      ]
    },
    {
      "cell_type": "markdown",
      "id": "029422e8",
      "metadata": {
        "id": "029422e8"
      },
      "source": [
        "## 📊 Read CSV from S3 using Pandas"
      ]
    },
    {
      "cell_type": "code",
      "execution_count": null,
      "id": "ceafcfe8",
      "metadata": {
        "id": "ceafcfe8"
      },
      "outputs": [],
      "source": [
        "import pandas as pd\n",
        "\n",
        "csv_path = f'{bucket_name}/bitcoin_prices.csv'\n",
        "with fs.open(csv_path, mode='rb') as f:\n",
        "    df = pd.read_csv(f)\n",
        "\n",
        "print(\"✅ Dataframe loaded from S3:\")\n",
        "print(df.head())"
      ]
    },
    {
      "cell_type": "markdown",
      "source": [
        "##  Listing all contents in your bucket\n"
      ],
      "metadata": {
        "id": "1Jsh8gbKTTpg"
      },
      "id": "1Jsh8gbKTTpg"
    },
    {
      "cell_type": "code",
      "source": [
        "# List contents in your bucket\n",
        "s3 = s3fs.S3FileSystem(anon=False)\n",
        "print(\"✅ Bucket Contents:\")\n",
        "print(s3.ls('bitcoin-timeseries-data-kv'))\n"
      ],
      "metadata": {
        "id": "A9d4X6ZETAW5"
      },
      "id": "A9d4X6ZETAW5",
      "execution_count": null,
      "outputs": []
    },
    {
      "cell_type": "markdown",
      "id": "297050fe",
      "metadata": {
        "id": "297050fe"
      },
      "source": [
        "## 📦 File Size using `du`"
      ]
    },
    {
      "cell_type": "code",
      "execution_count": null,
      "id": "af47975d",
      "metadata": {
        "id": "af47975d"
      },
      "outputs": [],
      "source": [
        "# Check file size\n",
        "print(\"✅ File Size:\")\n",
        "print(fs.du(f'{bucket_name}/bitcoin_prices.csv'))"
      ]
    },
    {
      "cell_type": "markdown",
      "id": "d0cbb0eb",
      "metadata": {
        "id": "d0cbb0eb"
      },
      "source": [
        "## 🔗 Read from s3:// URL with storage_options"
      ]
    },
    {
      "cell_type": "code",
      "execution_count": null,
      "id": "547d182e",
      "metadata": {
        "id": "547d182e"
      },
      "outputs": [],
      "source": [
        "df_s3 = pd.read_csv('s3://bitcoin-timeseries-data-kv/bitcoin_prices.csv', storage_options={'anon': False})\n",
        "print(\"✅ Loaded using s3:// path:\")\n",
        "print(df_s3.head())"
      ]
    }
  ],
  "metadata": {
    "colab": {
      "provenance": []
    }
  },
  "nbformat": 4,
  "nbformat_minor": 5
}