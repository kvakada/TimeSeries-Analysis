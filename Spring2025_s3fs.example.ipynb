{
 "cells": [
  {
   "cell_type": "markdown",
   "id": "b07d172b",
   "metadata": {},
   "source": [
    "# Spring2025_s3fs.example.ipynb\n",
    "\n",
    "This notebook provides an example use case integrating all core functionality of the Bitcoin time series project using `s3fs`. It demonstrates data ingestion, S3 operations, visualization, and basic forecasting."
   ]
  },
  {
   "cell_type": "code",
   "execution_count": null,
   "id": "43c4c9de",
   "metadata": {},
   "outputs": [],
   "source": [
    "import pandas as pd\n",
    "import matplotlib.pyplot as plt\n",
    "import s3fs\n",
    "from statsmodels.tsa.seasonal import seasonal_decompose"
   ]
  },
  {
   "cell_type": "code",
   "execution_count": null,
   "id": "b83dbf5c",
   "metadata": {},
   "outputs": [],
   "source": [
    "fs = s3fs.S3FileSystem(anon=False)\n",
    "s3_path = 'bitcoin-timeseries-data-kv/bitcoin_prices.csv'\n",
    "with fs.open(s3_path, mode='rb') as f:\n",
    "    df = pd.read_csv(f)\n",
    "\n",
    "print(\"✅ Data loaded from S3\")\n",
    "df.head()"
   ]
  },
  {
   "cell_type": "code",
   "execution_count": null,
   "id": "5e7f9053",
   "metadata": {},
   "outputs": [],
   "source": [
    "df['Timestamp'] = pd.to_datetime(df['Timestamp'])\n",
    "df.set_index('Timestamp', inplace=True)\n",
    "plt.figure(figsize=(12,6))\n",
    "plt.plot(df.index, df['Price'], label='Bitcoin Price')\n",
    "plt.title('Bitcoin Price Time Series')\n",
    "plt.xlabel('Date')\n",
    "plt.ylabel('Price (USD)')\n",
    "plt.grid(True)\n",
    "plt.legend()\n",
    "plt.tight_layout()\n",
    "plt.show()"
   ]
  },
  {
   "cell_type": "code",
   "execution_count": null,
   "id": "0b5315b8",
   "metadata": {},
   "outputs": [],
   "source": [
    "result = seasonal_decompose(df['Price'], model='additive', period=7)\n",
    "result.plot()\n",
    "plt.suptitle('Bitcoin Price Decomposition (Trend + Seasonality + Residuals)', fontsize=16)\n",
    "plt.tight_layout()\n",
    "plt.show()"
   ]
  },
  {
   "cell_type": "code",
   "execution_count": null,
   "id": "8b515714",
   "metadata": {},
   "outputs": [],
   "source": [
    "df['Moving_Avg'] = df['Price'].rolling(window=5).mean()\n",
    "with fs.open('bitcoin-timeseries-data-kv/bitcoin_prices_with_forecast.csv', 'w') as f:\n",
    "    df.to_csv(f)\n",
    "print(\"✅ Forecasted data uploaded to S3\")"
   ]
  },
  {
   "cell_type": "markdown",
   "id": "f6b61e28",
   "metadata": {},
   "source": [
    "### ✅ This notebook demonstrates an end-to-end flow combining the API, file read/write with `s3fs`, time series processing, and forecasting."
   ]
  }
 ],
 "metadata": {
  "kernelspec": {
   "display_name": "Python 3 (ipykernel)",
   "language": "python",
   "name": "python3"
  },
  "language_info": {
   "codemirror_mode": {
    "name": "ipython",
    "version": 3
   },
   "file_extension": ".py",
   "mimetype": "text/x-python",
   "name": "python",
   "nbconvert_exporter": "python",
   "pygments_lexer": "ipython3",
   "version": "3.12.4"
  }
 },
 "nbformat": 4,
 "nbformat_minor": 5
}
