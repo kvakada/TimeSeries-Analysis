{
  "nbformat": 4,
  "nbformat_minor": 0,
  "metadata": {
    "colab": {
      "provenance": []
    },
    "kernelspec": {
      "name": "python3",
      "display_name": "Python 3"
    },
    "language_info": {
      "name": "python"
    }
  },
  "cells": [
    {
      "cell_type": "code",
      "execution_count": 1,
      "metadata": {
        "colab": {
          "base_uri": "https://localhost:8080/"
        },
        "id": "AQ-cpRrv8E87",
        "outputId": "fb805b6b-df41-448d-cf73-b6e24a6f5a1e"
      },
      "outputs": [
        {
          "output_type": "stream",
          "name": "stdout",
          "text": [
            "Mounted at /content/drive\n"
          ]
        }
      ],
      "source": [
        "from google.colab import drive\n",
        "drive.mount('/content/drive')"
      ]
    },
    {
      "cell_type": "code",
      "source": [
        "import pandas as pd\n",
        "import numpy as np\n",
        "import matplotlib.pyplot as plt\n",
        "import seaborn as sns\n",
        "import xgboost as xgb\n",
        "from sklearn.metrics import mean_squared_error\n",
        "from sklearn.model_selection import train_test_split"
      ],
      "metadata": {
        "id": "B1qsx7_u8UIM"
      },
      "execution_count": 2,
      "outputs": []
    },
    {
      "cell_type": "code",
      "source": [
        "df_driving_data = pd.read_csv('/content/drive/MyDrive/Fleet Insight Dashboard/Cleaned Data/driving_data_final.csv')\n",
        "df_vehicle_data = pd.read_csv('/content/drive/MyDrive/Fleet Insight Dashboard/Cleaned Data/vehicle_data_final.csv')"
      ],
      "metadata": {
        "id": "vgTTyI6L9_wM"
      },
      "execution_count": 3,
      "outputs": []
    },
    {
      "cell_type": "code",
      "source": [
        "import numpy as np\n",
        "import pandas as pd\n",
        "import xgboost as xgb\n",
        "from sklearn.metrics import mean_squared_error\n",
        "from sklearn.model_selection import train_test_split\n",
        "\n",
        "\n",
        "def get_sensor_data(df_driving_data):\n",
        "    df_driving_data['tire_sensor'] = 0\n",
        "    df_driving_data.loc[df_driving_data['maximum_rolling_power_density_demand'] >= 310, ['tire_sensor']] = 1\n",
        "\n",
        "    df_driving_data['engine_sensor'] = 0\n",
        "    df_driving_data.loc[df_driving_data['maximum_kinetic_power_density_demand'] >= 60, ['engine_sensor']] = 1\n",
        "\n",
        "    df_driving_data['break_sensor'] = 0\n",
        "    df_driving_data.loc[df_driving_data['max_deceleration_event_duration'] >= 1200, ['break_sensor']] = 1\n",
        "\n",
        "    df_driving_data['maintenance_need'] = 0\n",
        "    df_driving_data.loc[(df_driving_data['break_sensor'] + df_driving_data['engine_sensor'] +\n",
        "                         df_driving_data['tire_sensor']) >= 2, ['maintenance_need']] = 1\n",
        "\n",
        "    return df_driving_data\n",
        "\n",
        "\n",
        "def data_preparation(df_driving_data):\n",
        "    df_driving_data = df_driving_data.sort_values('day_id', ascending=False)\n",
        "    vid_all = df_driving_data['vid'].unique()\n",
        "\n",
        "    df_driving_data['vid'] = pd.Categorical(df_driving_data['vid'])\n",
        "    df_driving_data['pid'] = pd.Categorical(df_driving_data['pid'])\n",
        "    df_driving_data = pd.get_dummies(df_driving_data, columns=['vid', 'pid'])\n",
        "\n",
        "    x_pred = pd.DataFrame()\n",
        "    drop_indices = []\n",
        "    for i in range(len(vid_all)):\n",
        "        col_name = 'vid_' + str(vid_all[i])\n",
        "        match_rows = df_driving_data[df_driving_data[col_name] == 1]\n",
        "        if not match_rows.empty:\n",
        "            x_pred = pd.concat([x_pred, match_rows.iloc[[0]]], axis=0)\n",
        "            drop_indices.append(match_rows.index[0])\n",
        "\n",
        "    df_driving_data = df_driving_data.drop(drop_indices)\n",
        "\n",
        "    x = df_driving_data.drop('maintenance_need', axis=1)\n",
        "    y = df_driving_data['maintenance_need']\n",
        "    x_pred = x_pred.drop('maintenance_need', axis=1)\n",
        "\n",
        "    if 'month' in x.columns:\n",
        "        x = x.drop(columns=['month'])\n",
        "        x_pred = x_pred.drop(columns=['month'])\n",
        "\n",
        "    x_pred = x_pred[x.columns.tolist()]\n",
        "\n",
        "    return x, y, x_pred\n",
        "\n",
        "\n",
        "def predict_maintenance(x, y, dmatrix, df_vehicle_data, x_pred):\n",
        "    params = {\n",
        "        \"objective\": \"binary:logistic\",\n",
        "        'colsample_bytree': 0.3,\n",
        "        'learning_rate': 0.1,\n",
        "        'max_depth': 5,\n",
        "        'alpha': 10\n",
        "    }\n",
        "\n",
        "    cv_results = xgb.cv(\n",
        "        dtrain=dmatrix, params=params, nfold=10,\n",
        "        num_boost_round=50, early_stopping_rounds=10,\n",
        "        metrics=\"rmse\", as_pandas=True, seed=123\n",
        "    )\n",
        "\n",
        "    xg_class = xgb.XGBClassifier(**params, n_estimators=10)\n",
        "    xg_class.fit(x, y)\n",
        "\n",
        "    pred_prob = xg_class.predict_proba(x_pred)\n",
        "    df_vehicle_data['predicted_maintenance_probability'] = pred_prob[:, 1]\n",
        "\n",
        "    df_vehicle_data['predicted_weeks_until_maintenance'] = 30\n",
        "    df_vehicle_data.loc[df_vehicle_data['predicted_maintenance_probability'] >= 0.50, 'predicted_weeks_until_maintenance'] = 1\n",
        "    df_vehicle_data.loc[(df_vehicle_data['predicted_maintenance_probability'] >= 0.40) &\n",
        "                        (df_vehicle_data['predicted_maintenance_probability'] < 0.50), 'predicted_weeks_until_maintenance'] = 2\n",
        "    df_vehicle_data.loc[(df_vehicle_data['predicted_maintenance_probability'] >= 0.35) &\n",
        "                        (df_vehicle_data['predicted_maintenance_probability'] < 0.40), 'predicted_weeks_until_maintenance'] = 3\n",
        "    df_vehicle_data.loc[(df_vehicle_data['predicted_maintenance_probability'] >= 0.30) &\n",
        "                        (df_vehicle_data['predicted_maintenance_probability'] < 0.35), 'predicted_weeks_until_maintenance'] = 4\n",
        "\n",
        "    return cv_results, df_vehicle_data, xg_class\n"
      ],
      "metadata": {
        "id": "VXPaj2xk8V-H"
      },
      "execution_count": 10,
      "outputs": []
    },
    {
      "cell_type": "code",
      "source": [
        "# Step 1: Add sensor columns and define maintenance need\n",
        "df_driving_data_with_sensors = get_sensor_data(df_driving_data)\n",
        "\n",
        "# Step 2: Prepare the dataset for training and prediction\n",
        "x, y, x_pred = data_preparation(df_driving_data_with_sensors)\n",
        "\n",
        "# Step 3: Convert to DMatrix for XGBoost\n",
        "dmatrix = xgb.DMatrix(data=x, label=y)\n",
        "\n",
        "# Step 4: Train and predict maintenance using XGBoost\n",
        "cv_results, df_vehicle_data_updated, xgboost_model = predict_maintenance(x, y, dmatrix, df_vehicle_data, x_pred)\n"
      ],
      "metadata": {
        "id": "zlUc6pUY9Izx"
      },
      "execution_count": 11,
      "outputs": []
    },
    {
      "cell_type": "code",
      "source": [
        "df_vehicle_data_updated.to_csv(\"/content/drive/MyDrive/Fleet Insight Dashboard/Cleaned Data/vehicle_data_with_predictions.csv\", index=False)\n",
        "cv_results.to_csv(\"/content/drive/MyDrive/Fleet Insight Dashboard/Cleaned Data/xgboost_cv_results.csv\", index=False)"
      ],
      "metadata": {
        "id": "e54gV1V29v17"
      },
      "execution_count": 12,
      "outputs": []
    }
  ]
}